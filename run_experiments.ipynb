{
 "cells": [
  {
   "cell_type": "code",
   "execution_count": 3,
   "metadata": {},
   "outputs": [],
   "source": [
    "from matplotlib import pyplot as plt\n",
    "import numpy as np\n",
    "import os\n",
    "import pandas as pd\n",
    "\n",
    "THIS_DIR = os.path.abspath(os.path.dirname(\".\"))\n",
    "DATA_DIR = os.path.join(THIS_DIR, \"data\")\n",
    "RUN = True\n",
    "\n",
    "insecure_add = os.path.join(DATA_DIR, \"insecure_add.txt\")\n",
    "insecure_mul = os.path.join(DATA_DIR, \"insecure_mul.txt\")\n",
    "secure_add = os.path.join(DATA_DIR, \"secure_add.txt\")\n",
    "secure_mul = os.path.join(DATA_DIR, \"secure_mul.txt\")\n",
    "fh_add = os.path.join(DATA_DIR, \"fh_add.txt\")\n",
    "fh_mul = os.path.join(DATA_DIR, \"fh_mul.txt\")\n",
    "\n",
    "insecure_n = 1\n",
    "secure_n = 30\n",
    "\n",
    "def create_df(path):\n",
    "    data = pd.DataFrame([], columns=['size', 'time'])\n",
    "    data.to_csv(path, index=False)"
   ]
  },
  {
   "cell_type": "markdown",
   "metadata": {},
   "source": [
    "## Insecure Add"
   ]
  },
  {
   "cell_type": "code",
   "execution_count": 88,
   "metadata": {},
   "outputs": [],
   "source": [
    "if (RUN):\n",
    "    !rm $insecure_add\n",
    "    !python3 insecure_add.py $insecure_n"
   ]
  },
  {
   "cell_type": "code",
   "execution_count": 89,
   "metadata": {},
   "outputs": [],
   "source": [
    "insecure_add_data = pd.read_csv(insecure_add)\n",
    "add_y = np.array([insecure_add_data.iloc[0, 1]] * secure_n)"
   ]
  },
  {
   "cell_type": "markdown",
   "metadata": {},
   "source": [
    "## Insecure Mul"
   ]
  },
  {
   "cell_type": "code",
   "execution_count": 90,
   "metadata": {},
   "outputs": [],
   "source": [
    "if (RUN):\n",
    "    !rm $insecure_mul\n",
    "    !python3 insecure_mul.py $insecure_n"
   ]
  },
  {
   "cell_type": "code",
   "execution_count": 91,
   "metadata": {},
   "outputs": [],
   "source": [
    "insecure_mul_data = pd.read_csv(insecure_mul)\n",
    "mul_y = np.array([insecure_mul_data.iloc[0, 1]] * secure_n)"
   ]
  },
  {
   "cell_type": "markdown",
   "metadata": {},
   "source": [
    "## Secure Add"
   ]
  },
  {
   "cell_type": "code",
   "execution_count": 2,
   "metadata": {},
   "outputs": [],
   "source": [
    "if (RUN):\n",
    "    !rm $secure_add\n",
    "    create_df(secure_add)\n",
    "\n",
    "    for i in range(1, secure_n + 1):\n",
    "        !python3 secure_add.py -M$i -B 11111\n"
   ]
  },
  {
   "cell_type": "code",
   "execution_count": 93,
   "metadata": {},
   "outputs": [
    {
     "data": {
      "text/plain": [
       "[<matplotlib.lines.Line2D at 0x7fb40b6affa0>]"
      ]
     },
     "execution_count": 93,
     "metadata": {},
     "output_type": "execute_result"
    },
    {
     "data": {
      "image/png": "[encoded data removed]",
      "text/plain": [
       "<Figure size 432x288 with 1 Axes>"
      ]
     },
     "metadata": {
      "needs_background": "light"
     },
     "output_type": "display_data"
    }
   ],
   "source": [
    "secure_add_data = pd.read_csv(secure_add)\n",
    "s_add_x = secure_add_data.iloc[:, 0]\n",
    "s_add_y = secure_add_data.iloc[:, 1]\n",
    "plt.plot(sadd_x,sadd_y)"
   ]
  },
  {
   "cell_type": "markdown",
   "metadata": {},
   "source": [
    "## Secure Mul"
   ]
  },
  {
   "cell_type": "code",
   "execution_count": 7,
   "metadata": {},
   "outputs": [
    {
     "name": "stdout",
     "output_type": "stream",
     "text": [
      "2020-12-12 15:20:38,252 Start MPyC runtime v0.7.1\n",
      "2020-12-12 15:20:38,372 All 10 parties connected.\n",
      "Iteration: 10, Sample 0\n",
      "Iteration: 10, Sample 1\n",
      "Iteration: 10, Sample 2\n",
      "Iteration: 10, Sample 3\n",
      "Iteration: 10, Sample 4\n",
      "Iteration: 10, Sample 5\n",
      "Iteration: 10, Sample 6\n",
      "Iteration: 10, Sample 7\n",
      "Iteration: 10, Sample 8\n",
      "Iteration: 10, Sample 9\n",
      "Iteration: 10, Sample 10\n",
      "Iteration: 10, Sample 11\n",
      "Iteration: 10, Sample 12\n",
      "Iteration: 10, Sample 13\n",
      "Iteration: 10, Sample 14\n",
      "Iteration: 10, Sample 15\n",
      "Iteration: 10, Sample 16\n",
      "Iteration: 10, Sample 17\n",
      "Iteration: 10, Sample 18\n",
      "Iteration: 10, Sample 19\n",
      "^C\n",
      "/home/kyle/.local/lib/python3.8/site-packages/mpyc/asyncoro.py:376: RuntimeWarning: coroutine 'Runtime._reshare' was never awaited\n",
      "  coro = func(*args, **kwargs)\n",
      "RuntimeWarning: Enable tracemalloc to get the object allocation traceback\n",
      "Traceback (most recent call last):\n",
      "  File \"secure_mul.py\", line 54, in <module>\n",
      "    main()\n",
      "  File \"secure_mul.py\", line 41, in main\n",
      "    mpc.run(mpc.output(many_secure_mul(s, 100)))\n",
      "  File \"/home/kyle/.local/lib/python3.8/site-packages/mpyc/runtime.py\", line 158, in run\n",
      "    return self._loop.run_until_complete(f)\n",
      "  File \"/usr/lib/python3.8/asyncio/base_events.py\", line 603, in run_until_complete\n",
      "    self.run_forever()\n",
      "  File \"/usr/lib/python3.8/asyncio/base_events.py\", line 570, in run_forever\n",
      "    self._run_once()\n",
      "  File \"/usr/lib/python3.8/asyncio/base_events.py\", line 1859, in _run_once\n",
      "    handle._run()\n",
      "  File \"/usr/lib/python3.8/asyncio/events.py\", line 81, in _run\n",
      "    self._context.run(self._callback, *self._args)\n",
      "  File \"/home/kyle/.local/lib/python3.8/site-packages/mpyc/asyncoro.py\", line 257, in _wrap_in_coro\n",
      "    return await awaitable\n",
      "  File \"/home/kyle/.local/lib/python3.8/site-packages/mpyc/asyncoro.py\", line 247, in __await__\n",
      "    val = self.coro.send(None)\n",
      "  File \"/home/kyle/.local/lib/python3.8/site-packages/mpyc/runtime.py\", line 688, in mul\n",
      "    c = self._reshare(c)\n",
      "  File \"/home/kyle/.local/lib/python3.8/site-packages/mpyc/asyncoro.py\", line 376, in typed_asyncoro\n",
      "    coro = func(*args, **kwargs)\n",
      "KeyboardInterrupt\n",
      "2020-12-12 15:20:44,887 Start MPyC runtime v0.7.1\n",
      "2020-12-12 15:20:45,011 All 11 parties connected.\n",
      "Iteration: 11, Sample 0\n",
      "Iteration: 11, Sample 1\n",
      "Iteration: 11, Sample 2\n",
      "Iteration: 11, Sample 3\n",
      "Iteration: 11, Sample 4\n",
      "Iteration: 11, Sample 5\n",
      "Iteration: 11, Sample 6\n",
      "Iteration: 11, Sample 7\n",
      "Iteration: 11, Sample 8\n",
      "Iteration: 11, Sample 9\n",
      "Iteration: 11, Sample 10\n",
      "Iteration: 11, Sample 11\n",
      "Iteration: 11, Sample 12\n",
      "Iteration: 11, Sample 13\n",
      "Iteration: 11, Sample 14\n",
      "Iteration: 11, Sample 15\n",
      "Iteration: 11, Sample 16\n",
      "Iteration: 11, Sample 17\n",
      "Iteration: 11, Sample 18\n",
      "^C\n",
      "Traceback (most recent call last):\n",
      "  File \"secure_mul.py\", line 54, in <module>\n",
      "    main()\n",
      "  File \"secure_mul.py\", line 41, in main\n",
      "    mpc.run(mpc.output(many_secure_mul(s, 100)))\n",
      "  File \"/home/kyle/.local/lib/python3.8/site-packages/mpyc/runtime.py\", line 158, in run\n",
      "    return self._loop.run_until_complete(f)\n",
      "  File \"/usr/lib/python3.8/asyncio/base_events.py\", line 603, in run_until_complete\n",
      "    self.run_forever()\n",
      "  File \"/usr/lib/python3.8/asyncio/base_events.py\", line 570, in run_forever\n",
      "    self._run_once()\n",
      "  File \"/usr/lib/python3.8/asyncio/base_events.py\", line 1859, in _run_once\n",
      "    handle._run()\n",
      "  File \"/usr/lib/python3.8/asyncio/events.py\", line 81, in _run\n",
      "    self._context.run(self._callback, *self._args)\n",
      "  File \"/home/kyle/.local/lib/python3.8/site-packages/mpyc/asyncoro.py\", line 165, in _decrement\n",
      "    self.set_result(_get_results(self.obj))\n",
      "  File \"/home/kyle/.local/lib/python3.8/site-packages/mpyc/asyncoro.py\", line 194, in _get_results\n",
      "    return type(obj)(map(_get_results, obj))\n",
      "  File \"/home/kyle/.local/lib/python3.8/site-packages/mpyc/asyncoro.py\", line 183, in _get_results\n",
      "    def _get_results(obj):\n",
      "KeyboardInterrupt\n",
      "2020-12-12 15:20:51,977 Start MPyC runtime v0.7.1\n",
      "2020-12-12 15:20:52,085 All 12 parties connected.\n",
      "Iteration: 12, Sample 0\n",
      "Iteration: 12, Sample 1\n",
      "Iteration: 12, Sample 2\n",
      "Iteration: 12, Sample 3\n",
      "Iteration: 12, Sample 4\n",
      "Iteration: 12, Sample 5\n",
      "^C\n",
      "Traceback (most recent call last):\n",
      "  File \"secure_mul.py\", line 54, in <module>\n",
      "    main()\n",
      "  File \"secure_mul.py\", line 41, in main\n",
      "    mpc.run(mpc.output(many_secure_mul(s, 100)))\n",
      "  File \"/home/kyle/.local/lib/python3.8/site-packages/mpyc/runtime.py\", line 158, in run\n",
      "    return self._loop.run_until_complete(f)\n",
      "  File \"/usr/lib/python3.8/asyncio/base_events.py\", line 603, in run_until_complete\n",
      "    self.run_forever()\n",
      "  File \"/usr/lib/python3.8/asyncio/base_events.py\", line 570, in run_forever\n",
      "    self._run_once()\n",
      "  File \"/usr/lib/python3.8/asyncio/base_events.py\", line 1859, in _run_once\n",
      "    handle._run()\n",
      "  File \"/usr/lib/python3.8/asyncio/events.py\", line 81, in _run\n",
      "    self._context.run(self._callback, *self._args)\n",
      "  File \"/home/kyle/.local/lib/python3.8/site-packages/mpyc/asyncoro.py\", line 257, in _wrap_in_coro\n",
      "    return await awaitable\n",
      "  File \"/home/kyle/.local/lib/python3.8/site-packages/mpyc/asyncoro.py\", line 247, in __await__\n",
      "    val = self.coro.send(None)\n",
      "  File \"/home/kyle/.local/lib/python3.8/site-packages/mpyc/runtime.py\", line 681, in mul\n",
      "    a, b = await self.gather(a, b)\n",
      "  File \"/home/kyle/.local/lib/python3.8/site-packages/mpyc/runtime.py\", line 122, in gather\n",
      "    return asyncoro.gather_shares(self, *obj)\n",
      "  File \"/home/kyle/.local/lib/python3.8/site-packages/mpyc/asyncoro.py\", line 217, in gather_shares\n",
      "    return _SharesCounter(rt._loop, obj)\n",
      "  File \"/home/kyle/.local/lib/python3.8/site-packages/mpyc/asyncoro.py\", line 158, in __init__\n",
      "    self.set_result(_get_results(obj))\n",
      "  File \"/home/kyle/.local/lib/python3.8/site-packages/mpyc/asyncoro.py\", line 194, in _get_results\n",
      "    return type(obj)(map(_get_results, obj))\n",
      "KeyboardInterrupt\n",
      "^C\n",
      "Traceback (most recent call last):\n",
      "  File \"secure_mul.py\", line 6, in <module>\n",
      "    import pandas as pd\n",
      "  File \"/home/kyle/.local/lib/python3.8/site-packages/pandas/__init__.py\", line 30, in <module>\n",
      "    from pandas._libs import hashtable as _hashtable, lib as _lib, tslib as _tslib\n",
      "  File \"/home/kyle/.local/lib/python3.8/site-packages/pandas/_libs/__init__.py\", line 13, in <module>\n",
      "    from pandas._libs.interval import Interval\n",
      "  File \"pandas/_libs/interval.pyx\", line 1, in init pandas._libs.interval\n",
      "  File \"pandas/_libs/hashtable.pyx\", line 1, in init pandas._libs.hashtable\n",
      "  File \"pandas/_libs/missing.pyx\", line 1, in init pandas._libs.missing\n",
      "  File \"/home/kyle/.local/lib/python3.8/site-packages/pandas/_libs/tslibs/__init__.py\", line 30, in <module>\n",
      "    from .conversion import OutOfBoundsTimedelta, localize_pydatetime\n",
      "  File \"pandas/_libs/tslibs/conversion.pyx\", line 58, in init pandas._libs.tslibs.conversion\n",
      "  File \"pandas/_libs/tslibs/parsing.pyx\", line 1, in init pandas._libs.tslibs.parsing\n",
      "  File \"pandas/_libs/tslibs/offsets.pyx\", line 1, in init pandas._libs.tslibs.offsets\n",
      "  File \"pandas/_libs/tslibs/timedeltas.pyx\", line 1471, in init pandas._libs.tslibs.timedeltas\n",
      "  File \"pandas/_libs/tslibs/timedeltas.pyx\", line 1208, in pandas._libs.tslibs.timedeltas.Timedelta.__new__\n",
      "KeyboardInterrupt\n",
      "^C\n",
      "Traceback (most recent call last):\n",
      "  File \"secure_mul.py\", line 6, in <module>\n",
      "    import pandas as pd\n",
      "  File \"/home/kyle/.local/lib/python3.8/site-packages/pandas/__init__.py\", line 30, in <module>\n",
      "    from pandas._libs import hashtable as _hashtable, lib as _lib, tslib as _tslib\n",
      "  File \"/home/kyle/.local/lib/python3.8/site-packages/pandas/_libs/__init__.py\", line 13, in <module>\n",
      "    from pandas._libs.interval import Interval\n",
      "  File \"pandas/_libs/interval.pyx\", line 1, in init pandas._libs.interval\n",
      "  File \"pandas/_libs/hashtable.pyx\", line 1, in init pandas._libs.hashtable\n",
      "  File \"pandas/_libs/missing.pyx\", line 1, in init pandas._libs.missing\n",
      "  File \"/home/kyle/.local/lib/python3.8/site-packages/pandas/_libs/tslibs/__init__.py\", line 30, in <module>\n",
      "    from .conversion import OutOfBoundsTimedelta, localize_pydatetime\n",
      "  File \"pandas/_libs/tslibs/conversion.pyx\", line 58, in init pandas._libs.tslibs.conversion\n",
      "  File \"pandas/_libs/tslibs/parsing.pyx\", line 1, in init pandas._libs.tslibs.parsing\n",
      "  File \"pandas/_libs/tslibs/offsets.pyx\", line 1, in init pandas._libs.tslibs.offsets\n",
      "  File \"pandas/_libs/tslibs/timestamps.pyx\", line 1, in init pandas._libs.tslibs.timestamps\n",
      "  File \"<frozen importlib._bootstrap>\", line 194, in _lock_unlock_module\n",
      "KeyboardInterrupt\n"
     ]
    },
    {
     "name": "stdout",
     "output_type": "stream",
     "text": [
      "^C\n",
      "Traceback (most recent call last):\n",
      "  File \"secure_mul.py\", line 6, in <module>\n",
      "    import pandas as pd\n",
      "  File \"/home/kyle/.local/lib/python3.8/site-packages/pandas/__init__.py\", line 52, in <module>\n",
      "    from pandas.core.api import (\n",
      "  File \"/home/kyle/.local/lib/python3.8/site-packages/pandas/core/api.py\", line 29, in <module>\n",
      "    from pandas.core.groupby import Grouper, NamedAgg\n",
      "  File \"/home/kyle/.local/lib/python3.8/site-packages/pandas/core/groupby/__init__.py\", line 1, in <module>\n",
      "    from pandas.core.groupby.generic import DataFrameGroupBy, NamedAgg, SeriesGroupBy\n",
      "  File \"/home/kyle/.local/lib/python3.8/site-packages/pandas/core/groupby/generic.py\", line 57, in <module>\n",
      "    from pandas.core.aggregation import (\n",
      "  File \"/home/kyle/.local/lib/python3.8/site-packages/pandas/core/aggregation.py\", line 27, in <module>\n",
      "    from pandas.core.series import FrameOrSeriesUnion, Series\n",
      "  File \"/home/kyle/.local/lib/python3.8/site-packages/pandas/core/series.py\", line 4996, in <module>\n",
      "    Series._add_series_or_dataframe_operations()\n",
      "  File \"/home/kyle/.local/lib/python3.8/site-packages/pandas/core/generic.py\", line 10517, in _add_series_or_dataframe_operations\n",
      "    from pandas.core.window import (\n",
      "  File \"/home/kyle/.local/lib/python3.8/site-packages/pandas/core/window/__init__.py\", line 1, in <module>\n",
      "    from pandas.core.window.ewm import ExponentialMovingWindow  # noqa:F401\n",
      "  File \"/home/kyle/.local/lib/python3.8/site-packages/pandas/core/window/ewm.py\", line 20, in <module>\n",
      "    from pandas.core.window.rolling import _flex_binary_moment, _Rolling\n",
      "  File \"/home/kyle/.local/lib/python3.8/site-packages/pandas/core/window/rolling.py\", line 50, in <module>\n",
      "    from pandas.core.window.indexers import (\n",
      "  File \"<frozen importlib._bootstrap>\", line 991, in _find_and_load\n",
      "  File \"<frozen importlib._bootstrap>\", line 975, in _find_and_load_unlocked\n",
      "  File \"<frozen importlib._bootstrap>\", line 671, in _load_unlocked\n",
      "  File \"<frozen importlib._bootstrap_external>\", line 779, in exec_module\n",
      "  File \"<frozen importlib._bootstrap_external>\", line 911, in get_code\n",
      "  File \"<frozen importlib._bootstrap_external>\", line 580, in _compile_bytecode\n",
      "KeyboardInterrupt\n",
      "^C\n",
      "Traceback (most recent call last):\n",
      "  File \"secure_mul.py\", line 6, in <module>\n",
      "    import pandas as pd\n",
      "  File \"/home/kyle/.local/lib/python3.8/site-packages/pandas/__init__.py\", line 52, in <module>\n",
      "    from pandas.core.api import (\n",
      "  File \"/home/kyle/.local/lib/python3.8/site-packages/pandas/core/api.py\", line 14, in <module>\n",
      "    from pandas.core.algorithms import factorize, unique, value_counts\n",
      "  File \"/home/kyle/.local/lib/python3.8/site-packages/pandas/core/algorithms.py\", line 14, in <module>\n",
      "    from pandas.util._decorators import doc\n",
      "  File \"/home/kyle/.local/lib/python3.8/site-packages/pandas/util/__init__.py\", line 1, in <module>\n",
      "    from pandas.util._decorators import Appender, Substitution, cache_readonly  # noqa\n",
      "  File \"<frozen importlib._bootstrap>\", line 991, in _find_and_load\n",
      "  File \"<frozen importlib._bootstrap>\", line 971, in _find_and_load_unlocked\n",
      "  File \"<frozen importlib._bootstrap>\", line 914, in _find_spec\n",
      "  File \"<frozen importlib._bootstrap_external>\", line 1342, in find_spec\n",
      "  File \"<frozen importlib._bootstrap_external>\", line 1314, in _get_spec\n",
      "  File \"<frozen importlib._bootstrap_external>\", line 1443, in find_spec\n",
      "  File \"<frozen importlib._bootstrap_external>\", line 1483, in _fill_cache\n",
      "KeyboardInterrupt\n",
      "^C\n",
      "Traceback (most recent call last):\n",
      "  File \"<frozen importlib._bootstrap>\", line 166, in _get_module_lock\n",
      "KeyError: 'numpy.core.records'\n",
      "\n",
      "During handling of the above exception, another exception occurred:\n",
      "\n",
      "Traceback (most recent call last):\n",
      "  File \"secure_mul.py\", line 4, in <module>\n",
      "    import numpy as np\n",
      "  File \"/home/kyle/.local/lib/python3.8/site-packages/numpy/__init__.py\", line 140, in <module>\n",
      "    from . import core\n",
      "  File \"/home/kyle/.local/lib/python3.8/site-packages/numpy/core/__init__.py\", line 77, in <module>\n",
      "    from . import records as rec\n",
      "  File \"<frozen importlib._bootstrap>\", line 988, in _find_and_load\n",
      "  File \"<frozen importlib._bootstrap>\", line 148, in __enter__\n",
      "  File \"<frozen importlib._bootstrap>\", line 166, in _get_module_lock\n",
      "KeyboardInterrupt\n",
      "^C\n",
      "Traceback (most recent call last):\n",
      "  File \"secure_mul.py\", line 4, in <module>\n",
      "    import numpy as np\n",
      "  File \"/home/kyle/.local/lib/python3.8/site-packages/numpy/__init__.py\", line 110, in <module>\n",
      "    from ._globals import ModuleDeprecationWarning, VisibleDeprecationWarning\n",
      "  File \"<frozen importlib._bootstrap>\", line 991, in _find_and_load\n",
      "  File \"<frozen importlib._bootstrap>\", line 975, in _find_and_load_unlocked\n",
      "  File \"<frozen importlib._bootstrap>\", line 684, in _load_unlocked\n",
      "  File \"<frozen importlib._bootstrap>\", line 222, in _verbose_message\n",
      "KeyboardInterrupt\n",
      "^C\n",
      "Traceback (most recent call last):\n",
      "  File \"secure_mul.py\", line 3, in <module>\n",
      "    from mpyc.runtime import mpc\n",
      "  File \"<frozen importlib._bootstrap>\", line 991, in _find_and_load\n",
      "  File \"<frozen importlib._bootstrap>\", line 971, in _find_and_load_unlocked\n",
      "  File \"<frozen importlib._bootstrap>\", line 914, in _find_spec\n",
      "  File \"<frozen importlib._bootstrap_external>\", line 1342, in find_spec\n",
      "  File \"<frozen importlib._bootstrap_external>\", line 1314, in _get_spec\n",
      "  File \"<frozen importlib._bootstrap_external>\", line 1458, in find_spec\n",
      "  File \"<frozen importlib._bootstrap_external>\", line 101, in _path_isfile\n",
      "  File \"<frozen importlib._bootstrap_external>\", line 93, in _path_is_mode_type\n",
      "  File \"<frozen importlib._bootstrap_external>\", line 87, in _path_stat\n",
      "KeyboardInterrupt\n",
      "^C\n",
      "Traceback (most recent call last):\n",
      "  File \"secure_mul.py\", line 3, in <module>\n",
      "    from mpyc.runtime import mpc\n",
      "  File \"/home/kyle/.local/lib/python3.8/site-packages/mpyc/runtime.py\", line 1978, in <module>\n",
      "    mpc = setup()\n",
      "  File \"/home/kyle/.local/lib/python3.8/site-packages/mpyc/runtime.py\", line 1968, in setup\n",
      "    rt = Runtime(pid, parties, options)\n",
      "  File \"/home/kyle/.local/lib/python3.8/site-packages/mpyc/runtime.py\", line 62, in __init__\n",
      "    self.threshold = options.threshold\n",
      "  File \"/home/kyle/.local/lib/python3.8/site-packages/mpyc/runtime.py\", line 85, in threshold\n",
      "    keys[subset] = secrets.token_bytes(16)  # 128-bit key\n",
      "KeyboardInterrupt\n",
      "^C\n",
      "Traceback (most recent call last):\n",
      "  File \"secure_mul.py\", line 3, in <module>\n",
      "    from mpyc.runtime import mpc\n",
      "  File \"/home/kyle/.local/lib/python3.8/site-packages/mpyc/runtime.py\", line 1978, in <module>\n",
      "    mpc = setup()\n",
      "  File \"/home/kyle/.local/lib/python3.8/site-packages/mpyc/runtime.py\", line 1968, in setup\n",
      "    rt = Runtime(pid, parties, options)\n",
      "  File \"/home/kyle/.local/lib/python3.8/site-packages/mpyc/runtime.py\", line 62, in __init__\n",
      "    self.threshold = options.threshold\n",
      "  File \"/home/kyle/.local/lib/python3.8/site-packages/mpyc/runtime.py\", line 85, in threshold\n",
      "    keys[subset] = secrets.token_bytes(16)  # 128-bit key\n",
      "  File \"/usr/lib/python3.8/secrets.py\", line 47, in token_bytes\n",
      "    return os.urandom(nbytes)\n",
      "KeyboardInterrupt\n",
      "2020-12-12 15:21:00,068 Start MPyC runtime v0.7.1\n",
      "^C\n",
      "Fatal Python error: init_import_size: Failed to import the site module\n",
      "Python runtime state: initialized\n",
      "Traceback (most recent call last):\n",
      "  File \"<frozen importlib._bootstrap_external>\", line 93, in _path_is_mode_type\n",
      "  File \"<frozen importlib._bootstrap_external>\", line 87, in _path_stat\n",
      "FileNotFoundError: [Errno 2] No such file or directory: '/home/kyle/.local/lib/python3.8/site-packages/mpl_toolkits/__init__.so'\n",
      "\n",
      "During handling of the above exception, another exception occurred:\n",
      "\n",
      "Traceback (most recent call last):\n",
      "  File \"/usr/lib/python3.8/site.py\", line 597, in <module>\n",
      "    main()\n",
      "  File \"/usr/lib/python3.8/site.py\", line 583, in main\n",
      "    known_paths = addusersitepackages(known_paths)\n",
      "  File \"/usr/lib/python3.8/site.py\", line 322, in addusersitepackages\n",
      "    addsitedir(user_site, known_paths)\n",
      "  File \"/usr/lib/python3.8/site.py\", line 214, in addsitedir\n",
      "    addpackage(sitedir, name, known_paths)\n",
      "  File \"/usr/lib/python3.8/site.py\", line 175, in addpackage\n",
      "    exec(line)\n",
      "  File \"<string>\", line 1, in <module>\n",
      "  File \"<frozen importlib._bootstrap_external>\", line 1342, in find_spec\n",
      "  File \"<frozen importlib._bootstrap_external>\", line 1314, in _get_spec\n",
      "  File \"<frozen importlib._bootstrap_external>\", line 1458, in find_spec\n",
      "  File \"<frozen importlib._bootstrap_external>\", line 101, in _path_isfile\n",
      "  File \"<frozen importlib._bootstrap_external>\", line 93, in _path_is_mode_type\n",
      "KeyboardInterrupt\n"
     ]
    },
    {
     "name": "stdout",
     "output_type": "stream",
     "text": [
      "^C\r\n",
      "Traceback (most recent call last):\r\n",
      "  File \"secure_mul.py\", line 3, in <module>\r\n",
      "    from mpyc.runtime import mpc\r\n",
      "  File \"/home/kyle/.local/lib/python3.8/site-packages/mpyc/runtime.py\", line 1978, in <module>\r\n",
      "    mpc = setup()\r\n",
      "  File \"/home/kyle/.local/lib/python3.8/site-packages/mpyc/runtime.py\", line 1958, in setup\r\n",
      "    subprocess.Popen(cmd_line, stdout=subprocess.DEVNULL, stderr=subprocess.STDOUT)\r\n",
      "  File \"/usr/lib/python3.8/subprocess.py\", line 854, in __init__\r\n",
      "    self._execute_child(args, executable, preexec_fn, close_fds,\r\n",
      "  File \"/usr/lib/python3.8/subprocess.py\", line 1658, in _execute_child\r\n",
      "    part = os.read(errpipe_read, 50000)\r\n",
      "KeyboardInterrupt\r\n"
     ]
    },
    {
     "ename": "UnboundLocalError",
     "evalue": "local variable 'child' referenced before assignment",
     "output_type": "error",
     "traceback": [
      "\u001b[0;31m---------------------------------------------------------------------------\u001b[0m",
      "\u001b[0;31mKeyboardInterrupt\u001b[0m                         Traceback (most recent call last)",
      "\u001b[0;32m~/.local/lib/python3.8/site-packages/IPython/utils/_process_posix.py\u001b[0m in \u001b[0;36msystem\u001b[0;34m(self, cmd)\u001b[0m\n\u001b[1;32m    156\u001b[0m             \u001b[0;32melse\u001b[0m\u001b[0;34m:\u001b[0m\u001b[0;34m\u001b[0m\u001b[0;34m\u001b[0m\u001b[0m\n\u001b[0;32m--> 157\u001b[0;31m                 \u001b[0mchild\u001b[0m \u001b[0;34m=\u001b[0m \u001b[0mpexpect\u001b[0m\u001b[0;34m.\u001b[0m\u001b[0mspawn\u001b[0m\u001b[0;34m(\u001b[0m\u001b[0mself\u001b[0m\u001b[0;34m.\u001b[0m\u001b[0msh\u001b[0m\u001b[0;34m,\u001b[0m \u001b[0margs\u001b[0m\u001b[0;34m=\u001b[0m\u001b[0;34m[\u001b[0m\u001b[0;34m'-c'\u001b[0m\u001b[0;34m,\u001b[0m \u001b[0mcmd\u001b[0m\u001b[0;34m]\u001b[0m\u001b[0;34m)\u001b[0m  \u001b[0;31m# Vanilla Pexpect\u001b[0m\u001b[0;34m\u001b[0m\u001b[0;34m\u001b[0m\u001b[0m\n\u001b[0m\u001b[1;32m    158\u001b[0m             \u001b[0mflush\u001b[0m \u001b[0;34m=\u001b[0m \u001b[0msys\u001b[0m\u001b[0;34m.\u001b[0m\u001b[0mstdout\u001b[0m\u001b[0;34m.\u001b[0m\u001b[0mflush\u001b[0m\u001b[0;34m\u001b[0m\u001b[0;34m\u001b[0m\u001b[0m\n",
      "\u001b[0;32m/usr/lib/python3/dist-packages/pexpect/pty_spawn.py\u001b[0m in \u001b[0;36m__init__\u001b[0;34m(self, command, args, timeout, maxread, searchwindowsize, logfile, cwd, env, ignore_sighup, echo, preexec_fn, encoding, codec_errors, dimensions, use_poll)\u001b[0m\n\u001b[1;32m    203\u001b[0m         \u001b[0;32melse\u001b[0m\u001b[0;34m:\u001b[0m\u001b[0;34m\u001b[0m\u001b[0;34m\u001b[0m\u001b[0m\n\u001b[0;32m--> 204\u001b[0;31m             \u001b[0mself\u001b[0m\u001b[0;34m.\u001b[0m\u001b[0m_spawn\u001b[0m\u001b[0;34m(\u001b[0m\u001b[0mcommand\u001b[0m\u001b[0;34m,\u001b[0m \u001b[0margs\u001b[0m\u001b[0;34m,\u001b[0m \u001b[0mpreexec_fn\u001b[0m\u001b[0;34m,\u001b[0m \u001b[0mdimensions\u001b[0m\u001b[0;34m)\u001b[0m\u001b[0;34m\u001b[0m\u001b[0;34m\u001b[0m\u001b[0m\n\u001b[0m\u001b[1;32m    205\u001b[0m         \u001b[0mself\u001b[0m\u001b[0;34m.\u001b[0m\u001b[0muse_poll\u001b[0m \u001b[0;34m=\u001b[0m \u001b[0muse_poll\u001b[0m\u001b[0;34m\u001b[0m\u001b[0;34m\u001b[0m\u001b[0m\n",
      "\u001b[0;32m/usr/lib/python3/dist-packages/pexpect/pty_spawn.py\u001b[0m in \u001b[0;36m_spawn\u001b[0;34m(self, command, args, preexec_fn, dimensions)\u001b[0m\n\u001b[1;32m    301\u001b[0m \u001b[0;34m\u001b[0m\u001b[0m\n\u001b[0;32m--> 302\u001b[0;31m         self.ptyproc = self._spawnpty(self.args, env=self.env,\n\u001b[0m\u001b[1;32m    303\u001b[0m                                      cwd=self.cwd, **kwargs)\n",
      "\u001b[0;32m/usr/lib/python3/dist-packages/pexpect/pty_spawn.py\u001b[0m in \u001b[0;36m_spawnpty\u001b[0;34m(self, args, **kwargs)\u001b[0m\n\u001b[1;32m    313\u001b[0m         \u001b[0;34m'''Spawn a pty and return an instance of PtyProcess.'''\u001b[0m\u001b[0;34m\u001b[0m\u001b[0;34m\u001b[0m\u001b[0m\n\u001b[0;32m--> 314\u001b[0;31m         \u001b[0;32mreturn\u001b[0m \u001b[0mptyprocess\u001b[0m\u001b[0;34m.\u001b[0m\u001b[0mPtyProcess\u001b[0m\u001b[0;34m.\u001b[0m\u001b[0mspawn\u001b[0m\u001b[0;34m(\u001b[0m\u001b[0margs\u001b[0m\u001b[0;34m,\u001b[0m \u001b[0;34m**\u001b[0m\u001b[0mkwargs\u001b[0m\u001b[0;34m)\u001b[0m\u001b[0;34m\u001b[0m\u001b[0;34m\u001b[0m\u001b[0m\n\u001b[0m\u001b[1;32m    315\u001b[0m \u001b[0;34m\u001b[0m\u001b[0m\n",
      "\u001b[0;32m~/.local/lib/python3.8/site-packages/ptyprocess/ptyprocess.py\u001b[0m in \u001b[0;36mspawn\u001b[0;34m(cls, argv, cwd, env, echo, preexec_fn, dimensions)\u001b[0m\n\u001b[1;32m    308\u001b[0m         \u001b[0mos\u001b[0m\u001b[0;34m.\u001b[0m\u001b[0mclose\u001b[0m\u001b[0;34m(\u001b[0m\u001b[0mexec_err_pipe_write\u001b[0m\u001b[0;34m)\u001b[0m\u001b[0;34m\u001b[0m\u001b[0;34m\u001b[0m\u001b[0m\n\u001b[0;32m--> 309\u001b[0;31m         \u001b[0mexec_err_data\u001b[0m \u001b[0;34m=\u001b[0m \u001b[0mos\u001b[0m\u001b[0;34m.\u001b[0m\u001b[0mread\u001b[0m\u001b[0;34m(\u001b[0m\u001b[0mexec_err_pipe_read\u001b[0m\u001b[0;34m,\u001b[0m \u001b[0;36m4096\u001b[0m\u001b[0;34m)\u001b[0m\u001b[0;34m\u001b[0m\u001b[0;34m\u001b[0m\u001b[0m\n\u001b[0m\u001b[1;32m    310\u001b[0m         \u001b[0mos\u001b[0m\u001b[0;34m.\u001b[0m\u001b[0mclose\u001b[0m\u001b[0;34m(\u001b[0m\u001b[0mexec_err_pipe_read\u001b[0m\u001b[0;34m)\u001b[0m\u001b[0;34m\u001b[0m\u001b[0;34m\u001b[0m\u001b[0m\n",
      "\u001b[0;31mKeyboardInterrupt\u001b[0m: ",
      "\nDuring handling of the above exception, another exception occurred:\n",
      "\u001b[0;31mUnboundLocalError\u001b[0m                         Traceback (most recent call last)",
      "\u001b[0;32m<ipython-input-7-0db06776ea08>\u001b[0m in \u001b[0;36m<module>\u001b[0;34m\u001b[0m\n\u001b[1;32m      4\u001b[0m \u001b[0;34m\u001b[0m\u001b[0m\n\u001b[1;32m      5\u001b[0m     \u001b[0;32mfor\u001b[0m \u001b[0mi\u001b[0m \u001b[0;32min\u001b[0m \u001b[0mrange\u001b[0m\u001b[0;34m(\u001b[0m\u001b[0;36m10\u001b[0m\u001b[0;34m,\u001b[0m \u001b[0;36m25\u001b[0m \u001b[0;34m+\u001b[0m \u001b[0;36m1\u001b[0m\u001b[0;34m)\u001b[0m\u001b[0;34m:\u001b[0m\u001b[0;34m\u001b[0m\u001b[0;34m\u001b[0m\u001b[0m\n\u001b[0;32m----> 6\u001b[0;31m         \u001b[0mget_ipython\u001b[0m\u001b[0;34m(\u001b[0m\u001b[0;34m)\u001b[0m\u001b[0;34m.\u001b[0m\u001b[0msystem\u001b[0m\u001b[0;34m(\u001b[0m\u001b[0;34m'python3 secure_mul.py -M$i -B 11111'\u001b[0m\u001b[0;34m)\u001b[0m\u001b[0;34m\u001b[0m\u001b[0;34m\u001b[0m\u001b[0m\n\u001b[0m",
      "\u001b[0;32m~/.local/lib/python3.8/site-packages/ipykernel/zmqshell.py\u001b[0m in \u001b[0;36msystem_piped\u001b[0;34m(self, cmd)\u001b[0m\n\u001b[1;32m    633\u001b[0m                 \u001b[0mself\u001b[0m\u001b[0;34m.\u001b[0m\u001b[0muser_ns\u001b[0m\u001b[0;34m[\u001b[0m\u001b[0;34m'_exit_code'\u001b[0m\u001b[0;34m]\u001b[0m \u001b[0;34m=\u001b[0m \u001b[0msystem\u001b[0m\u001b[0;34m(\u001b[0m\u001b[0mcmd\u001b[0m\u001b[0;34m)\u001b[0m\u001b[0;34m\u001b[0m\u001b[0;34m\u001b[0m\u001b[0m\n\u001b[1;32m    634\u001b[0m         \u001b[0;32melse\u001b[0m\u001b[0;34m:\u001b[0m\u001b[0;34m\u001b[0m\u001b[0;34m\u001b[0m\u001b[0m\n\u001b[0;32m--> 635\u001b[0;31m             \u001b[0mself\u001b[0m\u001b[0;34m.\u001b[0m\u001b[0muser_ns\u001b[0m\u001b[0;34m[\u001b[0m\u001b[0;34m'_exit_code'\u001b[0m\u001b[0;34m]\u001b[0m \u001b[0;34m=\u001b[0m \u001b[0msystem\u001b[0m\u001b[0;34m(\u001b[0m\u001b[0mself\u001b[0m\u001b[0;34m.\u001b[0m\u001b[0mvar_expand\u001b[0m\u001b[0;34m(\u001b[0m\u001b[0mcmd\u001b[0m\u001b[0;34m,\u001b[0m \u001b[0mdepth\u001b[0m\u001b[0;34m=\u001b[0m\u001b[0;36m1\u001b[0m\u001b[0;34m)\u001b[0m\u001b[0;34m)\u001b[0m\u001b[0;34m\u001b[0m\u001b[0;34m\u001b[0m\u001b[0m\n\u001b[0m\u001b[1;32m    636\u001b[0m \u001b[0;34m\u001b[0m\u001b[0m\n\u001b[1;32m    637\u001b[0m     \u001b[0;31m# Ensure new system_piped implementation is used\u001b[0m\u001b[0;34m\u001b[0m\u001b[0;34m\u001b[0m\u001b[0;34m\u001b[0m\u001b[0m\n",
      "\u001b[0;32m~/.local/lib/python3.8/site-packages/IPython/utils/_process_posix.py\u001b[0m in \u001b[0;36msystem\u001b[0;34m(self, cmd)\u001b[0m\n\u001b[1;32m    171\u001b[0m             \u001b[0;31m# (the character is known as ETX for 'End of Text', see\u001b[0m\u001b[0;34m\u001b[0m\u001b[0;34m\u001b[0m\u001b[0;34m\u001b[0m\u001b[0m\n\u001b[1;32m    172\u001b[0m             \u001b[0;31m# curses.ascii.ETX).\u001b[0m\u001b[0;34m\u001b[0m\u001b[0;34m\u001b[0m\u001b[0;34m\u001b[0m\u001b[0m\n\u001b[0;32m--> 173\u001b[0;31m             \u001b[0mchild\u001b[0m\u001b[0;34m.\u001b[0m\u001b[0msendline\u001b[0m\u001b[0;34m(\u001b[0m\u001b[0mchr\u001b[0m\u001b[0;34m(\u001b[0m\u001b[0;36m3\u001b[0m\u001b[0;34m)\u001b[0m\u001b[0;34m)\u001b[0m\u001b[0;34m\u001b[0m\u001b[0;34m\u001b[0m\u001b[0m\n\u001b[0m\u001b[1;32m    174\u001b[0m             \u001b[0;31m# Read and print any more output the program might produce on its\u001b[0m\u001b[0;34m\u001b[0m\u001b[0;34m\u001b[0m\u001b[0;34m\u001b[0m\u001b[0m\n\u001b[1;32m    175\u001b[0m             \u001b[0;31m# way out.\u001b[0m\u001b[0;34m\u001b[0m\u001b[0;34m\u001b[0m\u001b[0;34m\u001b[0m\u001b[0m\n",
      "\u001b[0;31mUnboundLocalError\u001b[0m: local variable 'child' referenced before assignment"
     ]
    }
   ],
   "source": [
    "if (RUN):\n",
    "    !rm $secure_mul\n",
    "    create_df(secure_mul)\n",
    "\n",
    "    for i in range(10, 25 + 1):\n",
    "        !python3 secure_mul.py -M$i -B 11111"
   ]
  },
  {
   "cell_type": "code",
   "execution_count": 8,
   "metadata": {},
   "outputs": [
    {
     "data": {
      "text/plain": [
       "[<matplotlib.lines.Line2D at 0x7fc219acb6d0>]"
      ]
     },
     "execution_count": 8,
     "metadata": {},
     "output_type": "execute_result"
    },
    {
     "data": {
      "image/png": "[encoded data removed]",
      "text/plain": [
       "<Figure size 432x288 with 1 Axes>"
      ]
     },
     "metadata": {
      "needs_background": "light"
     },
     "output_type": "display_data"
    }
   ],
   "source": [
    "secure_mul_data = pd.read_csv(secure_mul)\n",
    "s_mul_x = secure_mul_data.iloc[:, 0]\n",
    "s_mul_y = secure_mul_data.iloc[:, 1]\n",
    "plt.plot(s_mul_x,s_mul_y)"
   ]
  },
  {
   "cell_type": "markdown",
   "metadata": {},
   "source": [
    "## FH Add"
   ]
  },
  {
   "cell_type": "code",
   "execution_count": 96,
   "metadata": {},
   "outputs": [],
   "source": [
    "if (RUN):\n",
    "    !rm $fh_add\n",
    "    !python3 fh_add.py $secure_n"
   ]
  },
  {
   "cell_type": "code",
   "execution_count": 105,
   "metadata": {},
   "outputs": [],
   "source": [
    "fh_add_data = pd.read_csv(fh_add)\n",
    "fh_add_y = np.array([fh_add_data.iloc[0, 1]] * secure_n)"
   ]
  },
  {
   "cell_type": "markdown",
   "metadata": {},
   "source": [
    "## FH Mul"
   ]
  },
  {
   "cell_type": "code",
   "execution_count": 106,
   "metadata": {},
   "outputs": [],
   "source": [
    "if (RUN):\n",
    "    !rm $fh_mul\n",
    "    !python3 fh_mul.py $secure_n"
   ]
  },
  {
   "cell_type": "code",
   "execution_count": 107,
   "metadata": {},
   "outputs": [],
   "source": [
    "fh_mul_data = pd.read_csv(fh_mul)\n",
    "fh_mul_y = np.array([fh_mul_data.iloc[0, 1]] * secure_n)"
   ]
  },
  {
   "cell_type": "markdown",
   "metadata": {},
   "source": [
    "## Comparison"
   ]
  },
  {
   "cell_type": "code",
   "execution_count": 112,
   "metadata": {},
   "outputs": [
    {
     "data": {
      "image/png": "[encoded data removed]",
      "text/plain": [
       "<Figure size 432x288 with 1 Axes>"
      ]
     },
     "metadata": {
      "needs_background": "light"
     },
     "output_type": "display_data"
    }
   ],
   "source": [
    "plt.plot(s_add_x, fh_mul_y, label=\"FH multiply\")\n",
    "plt.plot(s_add_x, fh_add_y, label=\"FH add\")\n",
    "\n",
    "plt.plot(s_add_x, s_mul_y, label=\"MPC multiply\")\n",
    "plt.plot(s_add_x, s_add_y, label=\"MPC add\")\n",
    "\n",
    "plt.plot(s_add_x, mul_y, label=\"Multiply\")\n",
    "plt.plot(s_add_x, add_y, label=\"Add\")\n",
    "\n",
    "plt.xlabel(\"Parties\")\n",
    "plt.ylabel(\"Time (seconds)\")\n",
    "plt.title(\"Times for secure and insecure multiplications and additions\")\n",
    "plt.legend()\n",
    "plt.show()"
   ]
  },
  {
   "cell_type": "code",
   "execution_count": 113,
   "metadata": {},
   "outputs": [
    {
     "data": {
      "image/png": "[encoded data removed]",
      "text/plain": [
       "<Figure size 432x288 with 1 Axes>"
      ]
     },
     "metadata": {
      "needs_background": "light"
     },
     "output_type": "display_data"
    }
   ],
   "source": [
    "plt.plot(s_add_x, s_mul_y, label=\"MPC multiply\")\n",
    "plt.plot(s_add_x, s_add_y, label=\"MPC add\")\n",
    "\n",
    "plt.plot(s_add_x, mul_y, label=\"Multiply\")\n",
    "plt.plot(s_add_x, add_y, label=\"Add\")\n",
    "\n",
    "plt.xlabel(\"Parties\")\n",
    "plt.ylabel(\"Time (seconds)\")\n",
    "plt.title(\"Times for secure and insecure multiplications and additions\")\n",
    "plt.legend()\n",
    "plt.show()"
   ]
  },
  {
   "cell_type": "code",
   "execution_count": 114,
   "metadata": {},
   "outputs": [
    {
     "data": {
      "image/png": "[encoded data removed]",
      "text/plain": [
       "<Figure size 432x288 with 1 Axes>"
      ]
     },
     "metadata": {
      "needs_background": "light"
     },
     "output_type": "display_data"
    }
   ],
   "source": [
    "plt.plot(s_add_x, fh_mul_y - fh_add_y, label=\"FH difference\")\n",
    "plt.plot(s_add_x, s_mul_y - s_add_y, label=\"MPC difference\")\n",
    "plt.plot(s_add_x, mul_y - add_y, label=\"Difference\")\n",
    "\n",
    "plt.xlabel(\"Parties\")\n",
    "plt.ylabel(\"Time (seconds)\")\n",
    "plt.title(\"Time difference between multiplication and addition\")\n",
    "plt.legend()\n",
    "plt.show()"
   ]
  },
  {
   "cell_type": "code",
   "execution_count": 115,
   "metadata": {},
   "outputs": [
    {
     "data": {
      "image/png": "[encoded data removed]",
      "text/plain": [
       "<Figure size 432x288 with 1 Axes>"
      ]
     },
     "metadata": {
      "needs_background": "light"
     },
     "output_type": "display_data"
    }
   ],
   "source": [
    "plt.plot(s_add_x, s_mul_y - s_add_y, label=\"MPC difference\")\n",
    "plt.plot(s_add_x, mul_y - add_y, label=\"Difference\")\n",
    "\n",
    "plt.xlabel(\"Parties\")\n",
    "plt.ylabel(\"Time (seconds)\")\n",
    "plt.title(\"Time difference between multiplication and addition\")\n",
    "plt.legend()\n",
    "plt.show()"
   ]
  },
  {
   "cell_type": "code",
   "execution_count": null,
   "metadata": {},
   "outputs": [],
   "source": []
  }
 ],
 "metadata": {
  "kernelspec": {
   "display_name": "Python 3",
   "language": "python",
   "name": "python3"
  },
  "language_info": {
   "codemirror_mode": {
    "name": "ipython",
    "version": 3
   },
   "file_extension": ".py",
   "mimetype": "text/x-python",
   "name": "python",
   "nbconvert_exporter": "python",
   "pygments_lexer": "ipython3",
   "version": "3.8.5"
  }
 },
 "nbformat": 4,
 "nbformat_minor": 4
}
